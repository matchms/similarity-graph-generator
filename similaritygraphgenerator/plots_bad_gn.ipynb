{
 "cells": [
  {
   "cell_type": "code",
   "execution_count": null,
   "metadata": {},
   "outputs": [
    {
     "ename": "ModuleNotFoundError",
     "evalue": "No module named 'classes'",
     "output_type": "error",
     "traceback": [
      "\u001b[0;31m---------------------------------------------------------------------------\u001b[0m",
      "\u001b[0;31mModuleNotFoundError\u001b[0m                       Traceback (most recent call last)",
      "Cell \u001b[0;32mIn[1], line 1\u001b[0m\n\u001b[0;32m----> 1\u001b[0m \u001b[38;5;28;01mfrom\u001b[39;00m \u001b[38;5;21;01mclasses\u001b[39;00m\u001b[38;5;21;01m.\u001b[39;00m\u001b[38;5;21;01mplots\u001b[39;00m \u001b[38;5;28;01mimport\u001b[39;00m Plots\n\u001b[1;32m      2\u001b[0m plots \u001b[38;5;241m=\u001b[39m Plots(\u001b[38;5;124m\"\u001b[39m\u001b[38;5;124m\"\u001b[39m)\n\u001b[1;32m      3\u001b[0m scores \u001b[38;5;241m=\u001b[39m [\u001b[38;5;124m'\u001b[39m\u001b[38;5;124mHomogeneity\u001b[39m\u001b[38;5;124m'\u001b[39m, \u001b[38;5;124m'\u001b[39m\u001b[38;5;124mCompleteness\u001b[39m\u001b[38;5;124m'\u001b[39m, \u001b[38;5;124m'\u001b[39m\u001b[38;5;124mCommunity Size Score\u001b[39m\u001b[38;5;124m'\u001b[39m, \u001b[38;5;124m'\u001b[39m\u001b[38;5;124mModularity\u001b[39m\u001b[38;5;124m'\u001b[39m, \u001b[38;5;124m'\u001b[39m\u001b[38;5;124mARI\u001b[39m\u001b[38;5;124m'\u001b[39m, \u001b[38;5;124m'\u001b[39m\u001b[38;5;124mNMI\u001b[39m\u001b[38;5;124m'\u001b[39m, \u001b[38;5;124m'\u001b[39m\u001b[38;5;124mAMI\u001b[39m\u001b[38;5;124m'\u001b[39m, \u001b[38;5;124m'\u001b[39m\u001b[38;5;124mFMI\u001b[39m\u001b[38;5;124m'\u001b[39m]\n",
      "\u001b[0;31mModuleNotFoundError\u001b[0m: No module named 'classes'"
     ]
    }
   ],
   "source": [
    "from similaritygraphgenerator.classes.plots import Plots\n",
    "plots = Plots(\"\")\n",
    "scores = ['Homogeneity', 'Completeness', 'Community Size Score', 'Modularity', 'ARI', 'NMI', 'AMI', 'FMI']\n",
    "algorithms = ['girvan_newman', 'louvain', 'lpa', 'infomap', 'greedy_modularity']"
   ]
  },
  {
   "cell_type": "markdown",
   "metadata": {},
   "source": [
    "# Bad GN"
   ]
  },
  {
   "cell_type": "code",
   "execution_count": null,
   "metadata": {},
   "outputs": [],
   "source": [
    "gn_bad_recipe_nn_nn = \"128-4_0-0-0-?-0_0-0-0-0-0-0_?-1-1-1-1\"\n",
    "plots.update_name(gn_bad_recipe_nn_nn)\n",
    "for score in scores:\n",
    "    plots.plot('exports/gn_recipe_bad', 'line', 'matrix_threshold', score, save=True)\n",
    "\n",
    "gn_bad_recipe_nn_n = \"128-4_0-0-0-?-1_0-0-0-0-0-0_?-1-1-1-1\"\n",
    "plots.update_name(gn_bad_recipe_nn_n)\n",
    "for score in scores:\n",
    "    plots.plot('exports/gn_recipe_bad', 'line', 'matrix_threshold', score, save=True)\n",
    "\n",
    "gn_bad_recipe_n1_nn = \"128-4_100-0.1-3-?-0_0-0-0-0-0-0_?-1-1-1-1\"\n",
    "plots.update_name(gn_bad_recipe_n1_nn)\n",
    "for score in scores:\n",
    "    plots.plot('exports/gn_recipe_bad', 'line', 'matrix_threshold', score, save=True)\n",
    "\n",
    "gn_bad_recipe_n1_n = \"128-4_100-0.1-3-?-1_0-0-0-0-0-0_?-1-1-1-1\"\n",
    "plots.update_name(gn_bad_recipe_n1_n)\n",
    "for score in scores:\n",
    "    plots.plot('exports/gn_recipe_bad', 'line', 'matrix_threshold', score, save=True)\n",
    "\n",
    "gn_bad_recipe_n5_nn = \"128-4_100-0.5-3-?-0_0-0-0-0-0-0_?-1-1-1-1\"\n",
    "plots.update_name(gn_bad_recipe_n5_nn)\n",
    "for score in scores:\n",
    "    plots.plot('exports/gn_recipe_bad', 'line', 'matrix_threshold', score, save=True)\n",
    "\n",
    "gn_bad_recipe_n5_n = \"128-4_100-0.5-3-?-1_0-0-0-0-0-0_?-1-1-1-1\"\n",
    "plots.update_name(gn_bad_recipe_n5_n)\n",
    "for score in scores:\n",
    "    plots.plot('exports/gn_recipe_bad', 'line', 'matrix_threshold', score, save=True)\n",
    "\n",
    "gn_bad_recipe_n9_nn = \"128-4_100-0.9-3-?-0_0-0-0-0-0-0_?-1-1-1-1\"\n",
    "plots.update_name(gn_bad_recipe_n9_nn)\n",
    "for score in scores:\n",
    "    plots.plot('exports/gn_recipe_bad', 'line', 'matrix_threshold', score, save=True)\n",
    "\n",
    "gn_bad_recipe_n9_n = \"128-4_100-0.9-3-?-1_0-0-0-0-0-0_?-1-1-1-1\"\n",
    "plots.update_name(gn_bad_recipe_n9_n)\n",
    "for score in scores:\n",
    "    plots.plot('exports/gn_recipe_bad', 'line', 'matrix_threshold', score, save=True)\n",
    "\n",
    "heatmap = \"128-4_100-0.?-3-?-0_0-0-0-0-0-0_?-1-1-1-1\"\n",
    "plots.update_name(heatmap)\n",
    "for algorithm in algorithms:\n",
    "    for score in scores:\n",
    "        plots.plot('exports/gn_recipe_bad', 'heatmap', 'matrix_threshold', 'matrix_noise_level', score, algorithm, save=True)\n",
    "\n",
    "heatmap = \"128-4_100-0.?-3-?-1_0-0-0-0-0-0_?-1-1-1-1\"\n",
    "plots.update_name(heatmap)\n",
    "for algorithm in algorithms:\n",
    "    for score in scores:\n",
    "        plots.plot('exports/gn_recipe_bad', 'heatmap', 'matrix_threshold', 'matrix_noise_level', score, algorithm, save=True)\n"
   ]
  }
 ],
 "metadata": {
  "kernelspec": {
   "display_name": "base",
   "language": "python",
   "name": "python3"
  },
  "language_info": {
   "codemirror_mode": {
    "name": "ipython",
    "version": 3
   },
   "file_extension": ".py",
   "mimetype": "text/x-python",
   "name": "python",
   "nbconvert_exporter": "python",
   "pygments_lexer": "ipython3",
   "version": "3.11.8"
  }
 },
 "nbformat": 4,
 "nbformat_minor": 2
}
