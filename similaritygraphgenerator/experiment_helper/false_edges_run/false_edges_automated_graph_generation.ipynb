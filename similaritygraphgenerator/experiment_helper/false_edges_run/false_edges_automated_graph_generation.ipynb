{
 "cells": [
  {
   "cell_type": "markdown",
   "metadata": {},
   "source": [
    "## False Edges Expriment\n",
    "Automated generation of a similarity matrix and graph for each recipe, adding increasing percentage of false edges, iterating over node based threshold, applying community detection algorithms and exporting results to csv file"
   ]
  },
  {
   "cell_type": "code",
   "execution_count": 1,
   "metadata": {},
   "outputs": [],
   "source": [
    "from data.recipes import small_well_defined_recipe, small_weak_recipe, well_defined_recipe, weak_recipe, equal_recipe, random_recipe, big_well_defined_recipe, big_weak_recipe, big_equal_recipe, big_random_recipe\n",
    "from classes.compound_generator import CompoundGenerator\n",
    "from classes.graph import Graph\n",
    "from classes.matrix import Matrix\n",
    "import logging\n",
    "from datetime import datetime\n",
    "import os\n",
    "import copy"
   ]
  },
  {
   "cell_type": "code",
   "execution_count": 2,
   "metadata": {},
   "outputs": [],
   "source": [
    "base_dir = os.path.join(\"logs\")\n",
    "os.makedirs(base_dir, exist_ok=True)\n",
    "timestamp = datetime.now().strftime(\"%Y-%m-%d_%H-%M-%S\")\n",
    "log_filename = f\"/automated_graph_generation_{timestamp}.log\"\n",
    "logging.basicConfig(filename=base_dir+log_filename, level=logging.INFO, format='%(asctime)s - %(levelname)s - %(message)s')\n",
    "logging.info(\"+++++++++++++++++++++++++++++++++++++++++++++++++++\")"
   ]
  },
  {
   "cell_type": "code",
   "execution_count": null,
   "metadata": {},
   "outputs": [],
   "source": [
    "recipes = [\n",
    "    small_well_defined_recipe, \n",
    "    small_weak_recipe, \n",
    "    well_defined_recipe, \n",
    "    weak_recipe, \n",
    "    equal_recipe, \n",
    "    random_recipe, \n",
    "    big_well_defined_recipe, \n",
    "    big_weak_recipe, \n",
    "    big_equal_recipe, \n",
    "    big_random_recipe\n",
    "]\n",
    "noise = [True, False]\n",
    "false_edges = [0, 10, 20, 30, 40, 50, 60, 70, 80]\n",
    "\n",
    "def get_recipe_name(recipe):\n",
    "    name=\"\"\n",
    "    for y in range(0, len(recipe), 1):\n",
    "        name += str(recipe[y][1]['name']) + \"-\" + str(recipe[y][0]) + \"-\"\n",
    "    name = name[:-1]\n",
    "    return name\n",
    "\n",
    "def log_run(recipe_name, false_edges):\n",
    "    print(f\"Log {recipe_name}, {false_edges}\")\n",
    "    logging.info(f\"Recipe: {recipe_name}\")\n",
    "    logging.info(\"Normalized: True\")\n",
    "    logging.info(f\"False Edges: {false_edges}%\")\n",
    "    logging.info(\"------------------------------------------------\")\n",
    "                    \n",
    "def iterate_treshold(recipe_name, recipe, compounds_list, matrix):\n",
    "    for percentage in false_edges:\n",
    "        print(percentage)\n",
    "        graph = Graph(recipe, compounds_list, matrix.similarity_matrix, matrix.options)\n",
    "        graph.apply_matrix_treshold(80) \n",
    "        graph.apply_matrix_normalization()\n",
    "        graph.create_graph()\n",
    "        graph.add_false_edges(percentage)\n",
    "        print(\"graph created\")\n",
    "        for x in range(0, 100, 5):\n",
    "            print(\"X: \", x)\n",
    "            graph1 = Graph(recipe, compounds_list, matrix.similarity_matrix, matrix.options, copy.deepcopy(graph.graph))\n",
    "            graph1.options['graph']['false_edges'] = percentage\n",
    "            graph1.apply_edge_treshold_node_based(x, 0)\n",
    "            graph1.apply_edge_weight_normalization()\n",
    "            graph1.apply_louvain()\n",
    "            graph1.apply_lpa()\n",
    "            graph1.apply_infomap()\n",
    "            graph1.apply_greedy_modularity()\n",
    "            graph1.calculate_scores()\n",
    "            graph1.export_to_csv(folder_name=recipe_name)\n",
    "        log_run(recipe_name, percentage)\n",
    "       \n",
    "for recipe in recipes:\n",
    "    recipe_name = get_recipe_name(recipe)\n",
    "    generator = CompoundGenerator(recipe, seed=0)\n",
    "    compounds_list = generator.generate_compound_list()\n",
    "    matrix = Matrix(compounds_list)\n",
    "    print(\"matrix created\")\n",
    "   \n",
    "    iterate_treshold(recipe_name, recipe, compounds_list, matrix)\n",
    "            \n"
   ]
  }
 ],
 "metadata": {
  "kernelspec": {
   "display_name": "base",
   "language": "python",
   "name": "python3"
  },
  "language_info": {
   "codemirror_mode": {
    "name": "ipython",
    "version": 3
   },
   "file_extension": ".py",
   "mimetype": "text/x-python",
   "name": "python",
   "nbconvert_exporter": "python",
   "pygments_lexer": "ipython3",
   "version": "3.11.8"
  }
 },
 "nbformat": 4,
 "nbformat_minor": 4
}
