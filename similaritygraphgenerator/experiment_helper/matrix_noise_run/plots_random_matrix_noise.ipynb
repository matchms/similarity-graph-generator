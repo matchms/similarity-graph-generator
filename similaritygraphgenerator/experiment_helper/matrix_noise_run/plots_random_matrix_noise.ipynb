{
 "cells": [
  {
   "cell_type": "code",
   "execution_count": 1,
   "metadata": {},
   "outputs": [],
   "source": [
    "from classes.plots import Plots\n",
    "plots = Plots(\"\")\n",
    "scores = ['Modularity', 'ARI', 'NMI', 'AMI', 'FMI']\n",
    "algorithms = ['louvain', 'lpa', 'infomap', 'greedy_modularity']"
   ]
  },
  {
   "cell_type": "markdown",
   "metadata": {},
   "source": [
    "### Automated Plot generation for random recipe of matrix noise experiment"
   ]
  },
  {
   "cell_type": "code",
   "execution_count": null,
   "metadata": {},
   "outputs": [
    {
     "data": {
      "text/plain": [
       "<Figure size 1000x500 with 0 Axes>"
      ]
     },
     "metadata": {},
     "output_type": "display_data"
    },
    {
     "data": {
      "text/plain": [
       "<Figure size 1000x500 with 0 Axes>"
      ]
     },
     "metadata": {},
     "output_type": "display_data"
    },
    {
     "data": {
      "text/plain": [
       "<Figure size 1000x500 with 0 Axes>"
      ]
     },
     "metadata": {},
     "output_type": "display_data"
    },
    {
     "data": {
      "text/plain": [
       "<Figure size 1000x500 with 0 Axes>"
      ]
     },
     "metadata": {},
     "output_type": "display_data"
    },
    {
     "data": {
      "text/plain": [
       "<Figure size 1000x500 with 0 Axes>"
      ]
     },
     "metadata": {},
     "output_type": "display_data"
    }
   ],
   "source": [
    "random_recipe_nn_nn = \"512-8_0-0-0-?-0_0-0-0-0-0-0_?-1-1-1-1\"\n",
    "plots.update_name(random_recipe_nn_nn)\n",
    "for score in scores:\n",
    "    plots.plot('exports/matrix_noise_generated_data/random_recipe', 'line', 'matrix_threshold', score, save=True)\n",
    "\n",
    "random_recipe_nn_n = \"512-8_0-0-0-?-1_0-0-0-0-0-0_?-1-1-1-1\"\n",
    "plots.update_name(random_recipe_nn_n)\n",
    "for score in scores:\n",
    "    plots.plot('exports/matrix_noise_generated_data/random_recipe', 'line', 'matrix_threshold', score, save=True)\n",
    " \n",
    "random_recipe_n1_nn = \"512-8_100-0.1-3-?-0_0-0-0-0-0-0_?-1-1-1-1\"\n",
    "plots.update_name(random_recipe_n1_nn)\n",
    "for score in scores:\n",
    "    plots.plot('exports/matrix_noise_generated_data/random_recipe', 'line', 'matrix_threshold', score, save=True)\n",
    " \n",
    "random_recipe_n1_n = \"512-8_100-0.1-3-?-1_0-0-0-0-0-0_?-1-1-1-1\"\n",
    "plots.update_name(random_recipe_n1_n)\n",
    "for score in scores:\n",
    "    plots.plot('exports/matrix_noise_generated_data/random_recipe', 'line', 'matrix_threshold', score, save=True)\n",
    " \n",
    "random_recipe_n5_nn = \"512-8_100-0.5-3-?-0_0-0-0-0-0-0_?-1-1-1-1\"\n",
    "plots.update_name(random_recipe_n5_nn)\n",
    "for score in scores:\n",
    "    plots.plot('exports/matrix_noise_generated_data/random_recipe', 'line', 'matrix_threshold', score, save=True)\n",
    " \n",
    "random_recipe_n5_n = \"512-8_100-0.5-3-?-1_0-0-0-0-0-0_?-1-1-1-1\"\n",
    "plots.update_name(random_recipe_n5_n)\n",
    "for score in scores:\n",
    "    plots.plot('exports/matrix_noise_generated_data/random_recipe', 'line', 'matrix_threshold', score, save=True)\n",
    " \n",
    "random_recipe_n9_nn = \"512-8_100-0.9-3-?-0_0-0-0-0-0-0_?-1-1-1-1\"\n",
    "plots.update_name(random_recipe_n9_nn)\n",
    "for score in scores:\n",
    "    plots.plot('exports/matrix_noise_generated_data/random_recipe', 'line', 'matrix_threshold', score, save=True)\n",
    " \n",
    "random_recipe_n9_n = \"512-8_100-0.9-3-?-1_0-0-0-0-0-0_?-1-1-1-1\"\n",
    "plots.update_name(random_recipe_n9_n)\n",
    "for score in scores:\n",
    "    plots.plot('exports/matrix_noise_generated_data/random_recipe', 'line', 'matrix_threshold', score, save=True)\n",
    " \n",
    "heatmap = \"512-8_?-#-?-?-0_0-0-0-0-0-0_?-1-1-1-1\"\n",
    "plots.update_name(heatmap)\n",
    "for algorithm in algorithms:\n",
    "    for score in scores:\n",
    "        plots.plot('exports/matrix_noise_generated_data/random_recipe', 'heatmap', 'matrix_threshold', 'matrix_noise_level', score, algorithm, save=True)\n",
    "\n",
    "heatmap = \"512-8_?-#-?-?-1_0-0-0-0-0-0_?-1-1-1-1\"\n",
    "plots.update_name(heatmap)\n",
    "for algorithm in algorithms:\n",
    "    for score in scores:\n",
    "        plots.plot('exports/matrix_noise_generated_data/random_recipe', 'heatmap', 'matrix_threshold', 'matrix_noise_level', score, algorithm, save=True)\n",
    " "
   ]
  }
 ],
 "metadata": {
  "kernelspec": {
   "display_name": "base",
   "language": "python",
   "name": "python3"
  },
  "language_info": {
   "codemirror_mode": {
    "name": "ipython",
    "version": 3
   },
   "file_extension": ".py",
   "mimetype": "text/x-python",
   "name": "python",
   "nbconvert_exporter": "python",
   "pygments_lexer": "ipython3",
   "version": "3.11.8"
  }
 },
 "nbformat": 4,
 "nbformat_minor": 2
}
