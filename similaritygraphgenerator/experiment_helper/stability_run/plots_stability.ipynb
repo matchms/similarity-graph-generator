{
 "cells": [
  {
   "cell_type": "code",
   "execution_count": 1,
   "metadata": {},
   "outputs": [],
   "source": [
    "from similaritygraphgenerator.classes.plots import Plots\n",
    "plots = Plots(\"\")\n",
    "scores = ['Homogeneity', 'Completeness', 'Community Size Score', 'Modularity', 'ARI', 'NMI', 'AMI', 'FMI']\n",
    "algorithms = ['louvain', 'lpa', 'infomap', 'greedy_modularity']"
   ]
  },
  {
   "cell_type": "markdown",
   "metadata": {},
   "source": [
    "### Automated Plot generation for weak recipe of matrix noise experiment"
   ]
  },
  {
   "cell_type": "code",
   "execution_count": null,
   "metadata": {},
   "outputs": [],
   "source": [
    "recipe = \"512-8_0-0-0-?-1_0-0-0-0-0-0_?-1-1-1-1\"\n",
    "plots.update_name(recipe)\n",
    "for algorithm in algorithms:\n",
    "    for score in scores:\n",
    "        plots.plot('exports/stability_generated_data/bad_recipe', 'confidence', 'matrix_threshold', score, algorithm=algorithm, save=True)\n",
    "\n"
   ]
  },
  {
   "cell_type": "markdown",
   "metadata": {},
   "source": [
    "### Automated Plot generation for well defined recipe of matrix noise experiment"
   ]
  },
  {
   "cell_type": "code",
   "execution_count": null,
   "metadata": {},
   "outputs": [],
   "source": [
    "for algorithm in algorithms:\n",
    "    for score in scores:\n",
    "        plots.plot('exports/stability_generated_data/good_recipe', 'confidence', 'matrix_threshold', score, algorithm=algorithm, save=True)\n",
    "\n"
   ]
  },
  {
   "cell_type": "markdown",
   "metadata": {},
   "source": [
    "### Automated Plot generation for equal recipe of matrix noise experiment"
   ]
  },
  {
   "cell_type": "code",
   "execution_count": null,
   "metadata": {},
   "outputs": [],
   "source": [
    "for algorithm in algorithms:\n",
    "    for score in scores:\n",
    "        plots.plot('exports/stability_generated_data/equal_recipe', 'confidence', 'matrix_threshold', score, algorithm=algorithm, save=True)\n",
    "\n"
   ]
  },
  {
   "cell_type": "markdown",
   "metadata": {},
   "source": [
    "### Automated Plot generation for random recipe of matrix noise experiment"
   ]
  },
  {
   "cell_type": "code",
   "execution_count": null,
   "metadata": {},
   "outputs": [],
   "source": [
    "for algorithm in algorithms:\n",
    "    for score in scores:\n",
    "        plots.plot('exports/stability_generated_data/random_recipe', 'confidence', 'matrix_threshold', score, algorithm=algorithm, save=True)\n",
    "\n"
   ]
  }
 ],
 "metadata": {
  "kernelspec": {
   "display_name": "base",
   "language": "python",
   "name": "python3"
  },
  "language_info": {
   "codemirror_mode": {
    "name": "ipython",
    "version": 3
   },
   "file_extension": ".py",
   "mimetype": "text/x-python",
   "name": "python",
   "nbconvert_exporter": "python",
   "pygments_lexer": "ipython3",
   "version": "3.11.8"
  }
 },
 "nbformat": 4,
 "nbformat_minor": 2
}
