{
 "cells": [
  {
   "cell_type": "markdown",
   "metadata": {},
   "source": [
    "###### Imports"
   ]
  },
  {
   "cell_type": "code",
   "execution_count": 1,
   "metadata": {},
   "outputs": [],
   "source": [
    "from similaritygraphgenerator.data.recipes import well_defined_recipe,weak_recipe,equal_recipe,random_recipe\n",
    "from similaritygraphgenerator.classes.compound_generator import CompoundGenerator\n",
    "from similaritygraphgenerator.classes.graph import Graph\n",
    "from similaritygraphgenerator.classes.matrix import Matrix\n",
    "import logging\n",
    "from datetime import datetime\n",
    "import os"
   ]
  },
  {
   "cell_type": "code",
   "execution_count": 2,
   "metadata": {},
   "outputs": [],
   "source": [
    "base_dir = os.path.join(\"logs\")\n",
    "os.makedirs(base_dir, exist_ok=True)\n",
    "timestamp = datetime.now().strftime(\"%Y-%m-%d_%H-%M-%S\")\n",
    "log_filename = f\"/automated_graph_generation_{timestamp}.log\"\n",
    "logging.basicConfig(filename=base_dir+log_filename, level=logging.INFO, format='%(asctime)s - %(levelname)s - %(message)s')\n",
    "logging.info(\"+++++++++++++++++++++++++++++++++++++++++++++++++++\")"
   ]
  },
  {
   "cell_type": "code",
   "execution_count": null,
   "metadata": {},
   "outputs": [],
   "source": [
    "recipes = [\n",
    "    well_defined_recipe,\n",
    "    weak_recipe,\n",
    "    equal_recipe,\n",
    "    random_recipe\n",
    "]\n",
    "\n",
    "def get_recipe_name(recipe):\n",
    "    name=\"\"\n",
    "    for y in range(0, len(recipe), 1):\n",
    "        name += str(recipe[y][1]['name']) + \"-\" + str(recipe[y][0]) + \"-\"\n",
    "    name = name[:-1]\n",
    "    return name\n",
    "                    \n",
    "def iterate_treshold(recipe_name, recipe, compounds_list, run_number):\n",
    "    for x in range(0, 100, 5):\n",
    "        print(x)\n",
    "        matrix = Matrix(compounds_list)\n",
    "        graph = Graph(recipe, compounds_list, matrix.similarity_matrix, matrix.options) \n",
    "        graph.apply_matrix_treshold(x) \n",
    "        graph.apply_matrix_normalization()\n",
    "        graph.create_graph()\n",
    "        graph.apply_louvain()\n",
    "        graph.apply_lpa()\n",
    "        graph.apply_infomap()\n",
    "        graph.apply_greedy_modularity()\n",
    "        graph.calculate_scores()\n",
    "        graph.export_to_csv(folder_name=str(run_number)+str(recipe_name))\n",
    "        \n",
    "       \n",
    "for recipe in recipes:\n",
    "    for y in range(1,51,1):\n",
    "        recipe_name = get_recipe_name(recipe)\n",
    "        generator = CompoundGenerator(recipe, seed=y)\n",
    "        compounds_list = generator.generate_compound_list()\n",
    "        iterate_treshold(recipe_name, recipe, compounds_list, y)\n",
    "        \n",
    "\n"
   ]
  }
 ],
 "metadata": {
  "kernelspec": {
   "display_name": "base",
   "language": "python",
   "name": "python3"
  },
  "language_info": {
   "codemirror_mode": {
    "name": "ipython",
    "version": 3
   },
   "file_extension": ".py",
   "mimetype": "text/x-python",
   "name": "python",
   "nbconvert_exporter": "python",
   "pygments_lexer": "ipython3",
   "version": "3.11.8"
  }
 },
 "nbformat": 4,
 "nbformat_minor": 4
}
