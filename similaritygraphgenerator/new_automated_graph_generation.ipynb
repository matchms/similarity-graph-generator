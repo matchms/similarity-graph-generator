{
 "cells": [
  {
   "cell_type": "markdown",
   "metadata": {},
   "source": [
    "###### Imports"
   ]
  },
  {
   "cell_type": "code",
   "execution_count": null,
   "metadata": {},
   "outputs": [],
   "source": [
    "from data.compound_data import gn_recipe_good, gn_recipe_not_good,good_recipe,bad_recipe,equal_recipe,random_recipe,big_good_recipe,big_bad_recipe,big_equal_recipe,big_random_recipe\n",
    "from classes.compound_generator import CompoundGenerator\n",
    "from classes.graph import Graph\n",
    "import logging\n",
    "from datetime import datetime\n",
    "import os\n",
    "import copy"
   ]
  },
  {
   "cell_type": "code",
   "execution_count": null,
   "metadata": {},
   "outputs": [],
   "source": [
    "base_dir = os.path.join(\"logs\")\n",
    "os.makedirs(base_dir, exist_ok=True)\n",
    "timestamp = datetime.now().strftime(\"%Y-%m-%d_%H-%M-%S\")\n",
    "log_filename = f\"/automated_graph_generation_{timestamp}.log\"\n",
    "logging.basicConfig(filename=base_dir+log_filename, level=logging.INFO, format='%(asctime)s - %(levelname)s - %(message)s')\n",
    "logging.info(\"+++++++++++++++++++++++++++++++++++++++++++++++++++\")"
   ]
  },
  {
   "cell_type": "code",
   "execution_count": null,
   "metadata": {},
   "outputs": [],
   "source": [
    "recipes = [\n",
    "    # gn_recipe_good, \n",
    "    # gn_recipe_not_good,\n",
    "    # good_recipe,\n",
    "    # bad_recipe,\n",
    "    # equal_recipe,\n",
    "    # random_recipe,\n",
    "    big_good_recipe,\n",
    "    big_bad_recipe,\n",
    "    big_equal_recipe,\n",
    "    big_random_recipe\n",
    "]\n",
    "noise = [True, False]\n",
    "noise_level = [0.1, 0.5, 0.9]\n",
    "normalization = [True, False]\n",
    "\n",
    "def get_recipe_name(recipe):\n",
    "    name=\"\"\n",
    "    for y in range(0, len(recipe), 1):\n",
    "        name += str(recipe[y][1]['name']) + \"-\" + str(recipe[y][0]) + \"-\"\n",
    "    name = name[:-1]\n",
    "    return name\n",
    "\n",
    "def log_run(recipe_name, norm_bool, noise_bool, noise_lvl=None):\n",
    "    print(f\"Log {recipe_name}, {norm_bool}, {noise_bool}, {noise_lvl}\")\n",
    "    logging.info(f\"Recipe: {recipe_name}\")\n",
    "    logging.info(f\"Normalized: {norm_bool}\")\n",
    "    logging.info(f\"Noise: {noise_bool}\")\n",
    "    logging.info(f\"Noise Level: {noise_lvl}\")\n",
    "    logging.info(\"------------------------------------------------\")\n",
    "                    \n",
    "def iterate_treshold(recipe_name, recipe, compounds_list, norm_bool, matrix=None, noise_lvl=None):\n",
    "    for x in range(0, 100, 5):\n",
    "        print(x)\n",
    "        graph = Graph(recipe, compounds_list)\n",
    "        if matrix is not None:\n",
    "            graph.add_noise_to_matrix(percentage_to_modify=100, noise_level=noise_lvl)\n",
    "            graph.similarity_matrix = matrix\n",
    "        graph.apply_matrix_treshold(x) \n",
    "        if norm_bool:\n",
    "            graph.apply_matrix_normalization()\n",
    "        graph.create_graph()\n",
    "        # if x > 70:\n",
    "        #     graph.apply_girvan_newman()\n",
    "        graph.apply_louvain()\n",
    "        graph.apply_lpa()\n",
    "        graph.apply_infomap()\n",
    "        graph.apply_greedy_modularity()\n",
    "        graph.calculate_scores()\n",
    "        graph.export_to_csv(folder_name=recipe_name)\n",
    "        # graph.export_all_images(folder_name=recipe_name, export_histogram=True, export_cd=False, export_partition=False, export_graph=False)\n",
    "        \n",
    "       \n",
    "for recipe in recipes:\n",
    "    # SETUP\n",
    "    recipe_name = get_recipe_name(recipe)\n",
    "    generator = CompoundGenerator(recipe, seed=0)\n",
    "    compounds_list = generator.generate_compound_list()\n",
    "    graph = Graph(recipe, compounds_list)\n",
    "    for norm_bool in normalization:\n",
    "        for noise_bool in noise:\n",
    "            if noise_bool:\n",
    "                for noise_lvl in noise_level:\n",
    "                    graph.add_noise_to_matrix(percentage_to_modify=100, noise_level=noise_lvl)\n",
    "                    matrix = copy.deepcopy(graph.similarity_matrix)\n",
    "                    iterate_treshold(recipe_name, recipe, compounds_list, norm_bool, matrix, noise_lvl)\n",
    "                    log_run(recipe_name, norm_bool, noise_bool, noise_lvl)\n",
    "            else:\n",
    "                iterate_treshold(recipe_name, recipe, compounds_list, norm_bool)\n",
    "                log_run(recipe_name, norm_bool, noise_bool)\n",
    "                \n"
   ]
  }
 ],
 "metadata": {
  "kernelspec": {
   "display_name": "base",
   "language": "python",
   "name": "python3"
  },
  "language_info": {
   "codemirror_mode": {
    "name": "ipython",
    "version": 3
   },
   "file_extension": ".py",
   "mimetype": "text/x-python",
   "name": "python",
   "nbconvert_exporter": "python",
   "pygments_lexer": "ipython3",
   "version": "3.11.8"
  }
 },
 "nbformat": 4,
 "nbformat_minor": 4
}
