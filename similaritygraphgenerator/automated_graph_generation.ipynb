{
 "cells": [
  {
   "cell_type": "markdown",
   "metadata": {},
   "source": [
    "###### Imports"
   ]
  },
  {
   "cell_type": "code",
   "execution_count": 1,
   "metadata": {},
   "outputs": [],
   "source": [
    "from data.compound_data import recipe\n",
    "from classes.compound_generator import CompoundGenerator\n",
    "from classes.graph import Graph\n",
    "import logging\n",
    "from datetime import datetime\n",
    "import os"
   ]
  },
  {
   "cell_type": "code",
   "execution_count": null,
   "metadata": {},
   "outputs": [
    {
     "name": "stdout",
     "output_type": "stream",
     "text": [
      "Threshold:  95\n",
      "Threshold:  90\n",
      "Threshold:  85\n",
      "Threshold:  80\n",
      "Threshold:  75\n",
      "Threshold:  70\n",
      "Threshold:  65\n",
      "Threshold:  60\n",
      "Threshold:  55\n",
      "Threshold:  50\n",
      "Threshold:  45\n",
      "Threshold:  40\n",
      "Threshold:  35\n",
      "Threshold:  30\n",
      "Threshold:  25\n",
      "Threshold:  20\n",
      "Threshold:  15\n",
      "Threshold:  10\n",
      "Threshold:  5\n",
      "Threshold:  0\n"
     ]
    },
    {
     "data": {
      "text/plain": [
       "<Figure size 640x480 with 0 Axes>"
      ]
     },
     "metadata": {},
     "output_type": "display_data"
    }
   ],
   "source": [
    "# SETUP\n",
    "generator = CompoundGenerator(recipe, seed=0)\n",
    "compounds_list = generator.generate_compound_list()\n",
    "\n",
    "base_dir = os.path.join(\"logs\")\n",
    "os.makedirs(base_dir, exist_ok=True)\n",
    "timestamp = datetime.now().strftime(\"%Y-%m-%d_%H-%M-%S\")\n",
    "log_filename = f\"/automated_graph_generation_{timestamp}.log\"\n",
    "\n",
    "logging.basicConfig(filename=base_dir+log_filename, level=logging.INFO, format='%(asctime)s - %(levelname)s - %(message)s')\n",
    "logging.info(\"+++++++++++++++++++++++++++++++++++++++++++++++++++\")\n",
    "logging.info(\"No noise, matrix threshold 95 to 0 & normalization\")\n",
    "logging.info(\"---------------------------------------------------\")"
   ]
  },
  {
   "cell_type": "code",
   "execution_count": null,
   "metadata": {},
   "outputs": [],
   "source": [
    "for x in range(95, -1, -5):\n",
    "    logging.info(\"Threshold: %s\", x)\n",
    "    print(\"Threshold: \", x)\n",
    "\n",
    "    logging.info(\"Start\")\n",
    "    graph = Graph(recipe, compounds_list)\n",
    "\n",
    "    logging.info(\"Matrix functions\")\n",
    "    graph.export_all_images(export_histogram=True, export_cd=False, export_partition=False, export_graph=False)\n",
    "\n",
    "    # graph.add_noise_to_matrix(percentage_to_modify=0, noise_level=0.1, exponent=3)\n",
    "    graph.apply_matrix_treshold(x)\n",
    "    graph.apply_matrix_normalization()\n",
    "\n",
    "    logging.info(\"Graph functions\")\n",
    "    graph.create_graph()\n",
    "    # graph.add_false_edges()\n",
    "    # graph.apply_edge_threshold_global(percentage_to_remove=60, min_edges_per_node=4)\n",
    "    # graph.apply_edge_treshold_node_based(percentage_to_remove=60, min_edges_per_node=2)\n",
    "    # graph.apply_edge_weight_normalization()\n",
    "\n",
    "    logging.info(\"Girvan Newman\")\n",
    "    graph.apply_girvan_newman()\n",
    "    logging.info(\"Louvain\")\n",
    "    graph.apply_louvain()\n",
    "    logging.info(\"LPA\")\n",
    "    graph.apply_lpa()\n",
    "    logging.info(\"Infomap\")\n",
    "    graph.apply_infomap()\n",
    "    logging.info(\"Greedy Modularity\")\n",
    "    graph.apply_greedy_modularity()\n",
    "\n",
    "    logging.info(\"Calculate scores\")\n",
    "    graph.calculate_scores()\n",
    "    logging.info(\"Exports\")\n",
    "    graph.export_to_csv()\n",
    "    # graph.export_graphml()\n",
    "    graph.export_all_images(export_histogram=True, export_cd=False, export_partition=False, export_graph=False)\n",
    "    logging.info(\"-----------------------------\")"
   ]
  },
  {
   "cell_type": "code",
   "execution_count": null,
   "metadata": {},
   "outputs": [],
   "source": [
    "logging.info(\"---------------------------------------------------\")\n",
    "logging.info(\"Finished\")\n",
    "logging.info(\"+++++++++++++++++++++++++++++++++++++++++++++++++++\")"
   ]
  }
 ],
 "metadata": {
  "kernelspec": {
   "display_name": "base",
   "language": "python",
   "name": "python3"
  },
  "language_info": {
   "codemirror_mode": {
    "name": "ipython",
    "version": 3
   },
   "file_extension": ".py",
   "mimetype": "text/x-python",
   "name": "python",
   "nbconvert_exporter": "python",
   "pygments_lexer": "ipython3",
   "version": "3.11.7"
  }
 },
 "nbformat": 4,
 "nbformat_minor": 4
}
